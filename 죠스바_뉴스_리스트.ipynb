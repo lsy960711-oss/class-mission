{
  "nbformat": 4,
  "nbformat_minor": 0,
  "metadata": {
    "colab": {
      "provenance": [],
      "authorship_tag": "ABX9TyMSIWvgB/soNyl5eCt2biy4"
    },
    "kernelspec": {
      "name": "python3",
      "display_name": "Python 3"
    },
    "language_info": {
      "name": "python"
    }
  },
  "cells": [
    {
      "cell_type": "code",
      "source": [
        "import requests\n",
        "from bs4 import BeautifulSoup\n",
        "\n",
        "response = requests.get(\"https://search.daum.net/search?w=news&q=죠스바\")\n",
        "response.raise_for_status()\n",
        "soup = BeautifulSoup(response.content, 'lxml')\n",
        "\n",
        "title_tags = soup.select('.tit-g a')\n",
        "len(title_tags)\n",
        "title_tags[0]"
      ],
      "metadata": {
        "colab": {
          "base_uri": "https://localhost:8080/"
        },
        "id": "JnMaTCHWWcKo",
        "outputId": "99c7dfa2-1ad1-4c6e-e43d-8933801aa176"
      },
      "execution_count": 2,
      "outputs": [
        {
          "output_type": "execute_result",
          "data": {
            "text/plain": [
              "<a href=\"http://v.daum.net/v/20250712180123277\" onclick='smartLog(this, \"dc=DNS&amp;p=4&amp;d=26OQLDyijCsCAzO89j&amp;pg=1&amp;r=1&amp;rc=10&amp;e1=16EHDaTZuBrB2mZe7x&amp;e3=0&amp;ext=dsid=26OQLDyijCsCAzO89j\", event, {\"cpid\": {\"value\": \"16EHDaTZuBrB2mZe7x\"}});' target=\"_blank\"> \"달콤한데 0칼로리 <b>죠스바</b>, 스크류바가 노벨상감? 뿌듯했죠\"[New &amp; Good] </a>"
            ]
          },
          "metadata": {},
          "execution_count": 2
        }
      ]
    },
    {
      "cell_type": "code",
      "execution_count": 3,
      "metadata": {
        "colab": {
          "base_uri": "https://localhost:8080/"
        },
        "id": "U0LHaKO6V6iy",
        "outputId": "0fd1d659-27db-4fbd-ee9b-7d297bb47b8f"
      },
      "outputs": [
        {
          "output_type": "stream",
          "name": "stdout",
          "text": [
            "수집된 뉴스 개수: 10\n"
          ]
        },
        {
          "output_type": "execute_result",
          "data": {
            "text/plain": [
              "[{'title': '\"달콤한데 0칼로리 죠스바, 스크류바가 노벨상감? 뿌듯했죠\"[New & Good]',\n",
              "  'url': 'http://v.daum.net/v/20250712180123277'},\n",
              " {'title': '“만우절 장난이 현실로”... 롯데웰푸드, 미니 스크류바•미니 죠스바 출시',\n",
              "  'url': 'http://v.daum.net/v/20250521144656005'},\n",
              " {'title': '롯데웰푸드, 미니 스크류바·죠스바 출시…만우절 장난 현실로',\n",
              "  'url': 'http://v.daum.net/v/20250521091335759'},\n",
              " {'title': '옷이 아이스크림이라고?… 롯데百 광복점, 시원한 티셔츠! ‘폴햄X죠크박’ 팝업스토어',\n",
              "  'url': 'http://v.daum.net/v/20250808094714755'},\n",
              " {'title': \"부산 롯데백화점 광복점, 14일까지 '폴햄X죠크박 팝업스토어' 운영\",\n",
              "  'url': 'http://v.daum.net/v/20250808095206958'},\n",
              " {'title': '\"옷에 아이스크림이?\"..롯데백화점 광복점 이색 \\'쿨링마케팅\\'',\n",
              "  'url': 'http://v.daum.net/v/20250808085438310'},\n",
              " {'title': '아이스크림을 입는다… 폴햄×죠크박 팝업스토어',\n",
              "  'url': 'http://v.daum.net/v/20250808150757737'},\n",
              " {'title': '\"대박~\" 만우절 장난, 현실로 받아친 \\'이 회사\\'...죠스바 \\'미니\\' 나왔다',\n",
              "  'url': 'http://v.daum.net/v/20250522083427424'},\n",
              " {'title': '메로나에 홀린 미국, 돼지바에 빠진 인도',\n",
              "  'url': 'http://v.daum.net/v/20250822210313037'},\n",
              " {'title': '[단독] “목표는 북미”…스크류바·죠스바 ‘혹독한 다이어트’',\n",
              "  'url': 'http://v.daum.net/v/20250318102747778'}]"
            ]
          },
          "metadata": {},
          "execution_count": 3
        }
      ],
      "source": [
        "news_list = []\n",
        "\n",
        "for title_tag in title_tags:\n",
        "    news_dict = {\n",
        "        'title': title_tag.text.strip(),\n",
        "        'url': title_tag.get('href')\n",
        "    }\n",
        "    news_list.append(news_dict)\n",
        "\n",
        "print(f\"수집된 뉴스 개수: {len(news_list)}\")\n",
        "news_list"
      ]
    },
    {
      "cell_type": "code",
      "source": [
        "title_tags[0].text.strip()"
      ],
      "metadata": {
        "colab": {
          "base_uri": "https://localhost:8080/",
          "height": 36
        },
        "id": "UrgDjvdAWnId",
        "outputId": "810eef1a-6a7d-43c5-e73b-527422d0fd5d"
      },
      "execution_count": 4,
      "outputs": [
        {
          "output_type": "execute_result",
          "data": {
            "text/plain": [
              "'\"달콤한데 0칼로리 죠스바, 스크류바가 노벨상감? 뿌듯했죠\"[New & Good]'"
            ],
            "application/vnd.google.colaboratory.intrinsic+json": {
              "type": "string"
            }
          },
          "metadata": {},
          "execution_count": 4
        }
      ]
    },
    {
      "cell_type": "code",
      "source": [
        "title_tags[0].get(\"herf\")"
      ],
      "metadata": {
        "id": "F7UMG3zrWpY0"
      },
      "execution_count": null,
      "outputs": []
    },
    {
      "cell_type": "code",
      "source": [
        "for i, tag in enumerate(title_tags):\n",
        "    title = tag.text.strip()\n",
        "    link = tag.get('href').strip()\n",
        "    print(f\"{i + 1}. {title}\")\n",
        "    print(f\"   링크: {link}\")\n",
        "    print(\"=\" * 65)"
      ],
      "metadata": {
        "colab": {
          "base_uri": "https://localhost:8080/"
        },
        "id": "s2g6fSbsWp3C",
        "outputId": "24e454f6-04d4-45c3-d993-26287df9f24e"
      },
      "execution_count": 6,
      "outputs": [
        {
          "output_type": "stream",
          "name": "stdout",
          "text": [
            "1. \"달콤한데 0칼로리 죠스바, 스크류바가 노벨상감? 뿌듯했죠\"[New & Good]\n",
            "   링크: http://v.daum.net/v/20250712180123277\n",
            "=================================================================\n",
            "2. “만우절 장난이 현실로”... 롯데웰푸드, 미니 스크류바•미니 죠스바 출시\n",
            "   링크: http://v.daum.net/v/20250521144656005\n",
            "=================================================================\n",
            "3. 롯데웰푸드, 미니 스크류바·죠스바 출시…만우절 장난 현실로\n",
            "   링크: http://v.daum.net/v/20250521091335759\n",
            "=================================================================\n",
            "4. 옷이 아이스크림이라고?… 롯데百 광복점, 시원한 티셔츠! ‘폴햄X죠크박’ 팝업스토어\n",
            "   링크: http://v.daum.net/v/20250808094714755\n",
            "=================================================================\n",
            "5. 부산 롯데백화점 광복점, 14일까지 '폴햄X죠크박 팝업스토어' 운영\n",
            "   링크: http://v.daum.net/v/20250808095206958\n",
            "=================================================================\n",
            "6. \"옷에 아이스크림이?\"..롯데백화점 광복점 이색 '쿨링마케팅'\n",
            "   링크: http://v.daum.net/v/20250808085438310\n",
            "=================================================================\n",
            "7. 아이스크림을 입는다… 폴햄×죠크박 팝업스토어\n",
            "   링크: http://v.daum.net/v/20250808150757737\n",
            "=================================================================\n",
            "8. \"대박~\" 만우절 장난, 현실로 받아친 '이 회사'...죠스바 '미니' 나왔다\n",
            "   링크: http://v.daum.net/v/20250522083427424\n",
            "=================================================================\n",
            "9. 메로나에 홀린 미국, 돼지바에 빠진 인도\n",
            "   링크: http://v.daum.net/v/20250822210313037\n",
            "=================================================================\n",
            "10. [단독] “목표는 북미”…스크류바·죠스바 ‘혹독한 다이어트’\n",
            "   링크: http://v.daum.net/v/20250318102747778\n",
            "=================================================================\n"
          ]
        }
      ]
    }
  ]
}