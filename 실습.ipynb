{
  "cells": [
    {
      "cell_type": "code",
      "execution_count": null,
      "metadata": {
        "cellView": "form",
        "colab": {
          "background_save": true,
          "base_uri": "https://localhost:8080/"
        },
        "id": "NoFcqRVi8t9M",
        "outputId": "b8b14eb1-495f-443a-a962-cf2cffee76e5"
      },
      "outputs": [
        {
          "metadata": {
            "tags": null
          },
          "name": "stdout",
          "output_type": "stream",
          "text": [
            "지금부터 숫자맞추기 게임을 시작합니다!\n",
            "당신의 운은 얼마나 좋을까요?\n",
            "저는 1부터 10 사이의 숫자 중 하나를 생각하고 있어요, 맞춰보세요!\n"
          ]
        }
      ],
      "source": [
        "# @title 랜덤 숫자 맞추기 게임\n",
        "# 여기에 코드 작성\n",
        "import random\n",
        "\n",
        "print(\"지금부터 숫자맞추기 게임을 시작합니다!\")\n",
        "print(\"당신의 운은 얼마나 좋을까요?\")\n",
        "print(\"저는 1부터 10 사이의 숫자 중 하나를 생각하고 있어요, 맞춰보세요!\")\n",
        "\n",
        "answer_number = random.randint(1, 10)\n",
        "count = 0\n",
        "\n",
        "while True:\n",
        "    user_number = int(input(\"1~10 까지의 숫자 중 하나를 입력해주세요!\"))\n",
        "    count += 1\n",
        "    f\"당신이 선택한 숫자는 : {user_number}\"\n",
        "\n",
        "    if user_number == answer_number:\n",
        "        print(f\"\\n 정답! 제가 생각한 숫자는 {answer_number}번이었습니다! \\n {count}번 만에 맞추셨네요!\")\n",
        "\n",
        "        break\n",
        "    elif user_number < answer_number:\n",
        "        print(\"\\n 땡! 제가 생각한 숫자는 그것보다 커요!\")\n",
        "    else:\n",
        "        print(\"\\n 땡! 제가 생각한 숫자는 그것보다 작습니다!\")\n",
        "\n",
        "print(\"\\n 정답을 맞추셨으므로 게임은 종료됩니다! 또 함께 놀아요!\")"
      ]
    }
  ],
  "metadata": {
    "colab": {
      "provenance": [],
      "authorship_tag": "ABX9TyN8QBu2gSkJt/gBjzPbiC/f"
    },
    "kernelspec": {
      "display_name": "Python 3",
      "name": "python3"
    },
    "language_info": {
      "name": "python"
    }
  },
  "nbformat": 4,
  "nbformat_minor": 0
}